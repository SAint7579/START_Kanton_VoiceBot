{
 "cells": [
  {
   "cell_type": "code",
   "execution_count": 16,
   "metadata": {},
   "outputs": [],
   "source": [
    "from openai import OpenAI\n",
    "import os\n",
    "import json\n",
    "import time\n",
    "import ast\n",
    "client = OpenAI(api_key=os.environ[\"OPENAI_API_KEY\"])\n",
    "assistant = client.beta.assistants.retrieve(assistant_id='asst_HBm9X29io6tMuiphtvQeTuyh')\n",
    "thread = client.beta.threads.create()\n",
    "ASSISTANT_ID = assistant.id"
   ]
  },
  {
   "cell_type": "code",
   "execution_count": 9,
   "metadata": {},
   "outputs": [
    {
     "data": {
      "text/plain": [
       "Run(id='run_H6Jng6yk3zF7OZn6lwV4aUkq', assistant_id='asst_HBm9X29io6tMuiphtvQeTuyh', cancelled_at=None, completed_at=None, created_at=1711016190, expires_at=1711016790, failed_at=None, file_ids=['file-PgCvGp2KSV0xsnZe7O4P2PGv'], instructions='You are an assistant that is supposed to answer user questions regarding Kanton Saint Gallen, Switzerland. You have access to all the data in the given text file from their website.\\n\\nIf you don\\'t know the answer, you can call the function to \"forward call\" to one of the departments. You can get the department instructions from the department.txt file.\\n\\nAnswer is \"Swiss\" German if the user talks in German.', last_error=None, metadata={}, model='gpt-4-turbo-preview', object='thread.run', required_action=None, started_at=None, status='queued', thread_id='thread_7YcEruvuCHxeEFxZSLGltd0L', tools=[ToolAssistantToolsRetrieval(type='retrieval'), ToolAssistantToolsFunction(function=FunctionDefinition(name='forward_call', description='Forward the call to one of the Kanton St. Gallen Departments. Should be done when you are not sure about the question or when the user requests for this.', parameters={'type': 'object', 'properties': {'query': {'type': 'string', 'description': 'A small summary of the question.'}, 'department': {'type': 'string', 'description': 'Name of the department the call is to be forwarded to.', 'enum': ['Tax', 'Finance', 'Housing', 'City']}}, 'required': ['query', 'department']}), type='function')], usage=None)"
      ]
     },
     "execution_count": 9,
     "metadata": {},
     "output_type": "execute_result"
    }
   ],
   "source": [
    "submit_message(client, ASSISTANT_ID, thread, \"Hello, I'm a chatbot created by OpenAI. How can I help you today?\")"
   ]
  },
  {
   "cell_type": "code",
   "execution_count": 25,
   "metadata": {},
   "outputs": [],
   "source": [
    "def submit_message(client,assistant_id, thread, user_message):\n",
    "    client.beta.threads.messages.create(\n",
    "        thread_id=thread.id, role=\"user\", content=user_message\n",
    "    )\n",
    "    return client.beta.threads.runs.create(\n",
    "        thread_id=thread.id,\n",
    "        assistant_id=assistant_id,\n",
    "    )\n",
    "\n",
    "def get_response(client,thread):\n",
    "    return client.beta.threads.messages.list(thread_id=thread.id, order=\"asc\")\n",
    "\n",
    "def pretty_print(messages):\n",
    "    result = \"\"\n",
    "    for m in messages.data[-1:]:\n",
    "        result += f\"{m.content[0].text.value}\\n\"\n",
    "    result += \"\\n\"\n",
    "    return result\n",
    "\n",
    "# Waiting in a loop\n",
    "def wait_on_run(client,run, thread):\n",
    "    while run.status == \"queued\" or run.status == \"in_progress\":\n",
    "        run = client.beta.threads.runs.retrieve(\n",
    "            thread_id=thread.id,\n",
    "            run_id=run.id,\n",
    "        )\n",
    "        time.sleep(0.5)\n",
    "    return run\n",
    "\n",
    "\n",
    "def check_response(client,thread,run):\n",
    "        # Extract single tool call\n",
    "    tool_call = run.required_action.submit_tool_outputs.tool_calls[0]\n",
    "    name = tool_call.function.name\n",
    "    arguments = json.loads(tool_call.function.arguments)\n",
    "\n",
    "    response = {'success': \"Forwarding the call to the department. Ask user to hold\"}\n",
    "\n",
    "    run = client.beta.threads.runs.submit_tool_outputs(\n",
    "        thread_id=thread.id,\n",
    "        run_id=run.id,\n",
    "        tool_outputs=[\n",
    "            {\n",
    "                \"tool_call_id\": tool_call.id,\n",
    "                \"output\": json.dumps(response),\n",
    "            }\n",
    "        ],\n",
    "    )\n",
    "    \n",
    "    run = wait_on_run(client,run, thread)\n",
    "    return get_response(client,thread)"
   ]
  },
  {
   "cell_type": "code",
   "execution_count": 32,
   "metadata": {},
   "outputs": [
    {
     "name": "stdout",
     "output_type": "stream",
     "text": [
      "I've forwarded your request to the City Department. Please hold while they get back to you.\n",
      "\n",
      "\n"
     ]
    }
   ],
   "source": [
    "run = submit_message(client,ASSISTANT_ID, thread, \"Can you connect me to the city department?\")\n",
    "run = wait_on_run(client,run, thread)\n",
    "if run.status == 'requires_action':\n",
    "    response = pretty_print(check_response(client,thread,run))\n",
    "    print(response)\n",
    "else:\n",
    "    response = pretty_print(get_response(client,thread))\n",
    "    print(response)"
   ]
  },
  {
   "cell_type": "code",
   "execution_count": null,
   "metadata": {},
   "outputs": [],
   "source": []
  }
 ],
 "metadata": {
  "kernelspec": {
   "display_name": "Python 3",
   "language": "python",
   "name": "python3"
  },
  "language_info": {
   "codemirror_mode": {
    "name": "ipython",
    "version": 3
   },
   "file_extension": ".py",
   "mimetype": "text/x-python",
   "name": "python",
   "nbconvert_exporter": "python",
   "pygments_lexer": "ipython3",
   "version": "3.11.4"
  }
 },
 "nbformat": 4,
 "nbformat_minor": 2
}
